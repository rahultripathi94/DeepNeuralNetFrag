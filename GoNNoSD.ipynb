{
  "cells": [
    {
      "cell_type": "code",
      "execution_count": 23,
      "metadata": {
        "id": "QlDfp4Sw7DeR"
      },
      "outputs": [],
      "source": [
        "import numpy as np\n",
        "import h5py\n",
        "import pandas as pd\n",
        "import matplotlib.pyplot as plt\n",
        "from dnn_utils import sigmoid, sigmoid_backward, relu, relu_backward\n",
        "\n",
        "%matplotlib inline\n",
        "plt.rcParams['figure.figsize'] = (5.0, 4.0) # set default size of plots\n",
        "plt.rcParams['image.interpolation'] = 'nearest'\n",
        "plt.rcParams['image.cmap'] = 'gray'\n",
        "\n",
        "%load_ext autoreload\n",
        "%autoreload 2\n",
        "\n",
        "np.random.seed(1)"
      ]
    },
    {
      "cell_type": "markdown",
      "source": [
        "**Transforming dependant variable from 0/1 to -1/1**"
      ],
      "metadata": {
        "id": "wQWBUDzSrYTz"
      }
    },
    {
      "cell_type": "code",
      "source": [
        "def transformTarVar(data, dependantVarColumn):\n",
        "  unique, counts = np.unique(data[:,dependantVarColumn], return_counts=True)\n",
        "  print(np.asarray((unique, counts)).T)\n",
        "  data[:,dependantVarColumn][data[:,dependantVarColumn]==0] = -1\n",
        "  return data"
      ],
      "metadata": {
        "id": "olfKmtSnH7rO"
      },
      "execution_count": 24,
      "outputs": []
    },
    {
      "cell_type": "markdown",
      "source": [
        "**Segregating data into train and dev set**"
      ],
      "metadata": {
        "id": "uF8pdqory1CM"
      }
    },
    {
      "cell_type": "code",
      "execution_count": 25,
      "metadata": {
        "id": "CwcTKTMd7DeT"
      },
      "outputs": [],
      "source": [
        "def trainTestTransform(data, sizeTrainingData):\n",
        "  train_size = int(data.shape[0] * sizeTrainingData)\n",
        "  train_data, test_data = data[:train_size,:], data[train_size:,:]\n",
        "  Y_train, X_train = train_data[:, -1], train_data[:, :-1]\n",
        "  Y_test, X_test = test_data[:, -1], test_data[:, :-1]\n",
        "\n",
        "  Y_train, Y_test = Y_train.reshape((1,Y_train.shape[0])), Y_test.reshape((1,Y_test.shape[0]))\n",
        "  X_train = X_train.T\n",
        "\n",
        "  return X_train, X_test, Y_train, Y_test"
      ]
    },
    {
      "cell_type": "markdown",
      "source": [
        "#**Initializing Parameters for the Neural Network**"
      ],
      "metadata": {
        "id": "6ioUAmVhy_We"
      }
    },
    {
      "cell_type": "markdown",
      "source": [
        "**Random Parameter Initialization**"
      ],
      "metadata": {
        "id": "JvVAV1XEzITM"
      }
    },
    {
      "cell_type": "code",
      "execution_count": 26,
      "metadata": {
        "id": "b043d-2y7DeV"
      },
      "outputs": [],
      "source": [
        "def initialize_parameters_deep(layer_dims):\n",
        "    parameters = {}\n",
        "    L = len(layer_dims) # number of layers in the network\n",
        "\n",
        "    for l in range(1, L):\n",
        "        parameters['W' + str(l)] = np.random.randn(layer_dims[l], layer_dims[l-1]) * 0.01\n",
        "        parameters['b' + str(l)] = np.zeros((layer_dims[l], 1))\n",
        "        \n",
        "        assert(parameters['W' + str(l)].shape == (layer_dims[l], layer_dims[l - 1]))\n",
        "        assert(parameters['b' + str(l)].shape == (layer_dims[l], 1))\n",
        "     \n",
        "    return parameters"
      ]
    },
    {
      "cell_type": "markdown",
      "source": [
        "**He Parameter Initialization**"
      ],
      "metadata": {
        "id": "BNkydiSrzOFh"
      }
    },
    {
      "cell_type": "code",
      "source": [
        "def initialize_parameters_deep_He(layer_dims):\n",
        "    parameters = {}\n",
        "    L = len(layer_dims) # number of layers in the network\n",
        "\n",
        "    for l in range(1, L):\n",
        "        parameters['W' + str(l)] = np.random.randn(layer_dims[l], layer_dims[l-1]) * np.sqrt(2/layer_dims[l-1])\n",
        "        parameters['b' + str(l)] = np.zeros((layer_dims[l], 1))\n",
        "        \n",
        "        assert(parameters['W' + str(l)].shape == (layer_dims[l], layer_dims[l - 1]))\n",
        "        assert(parameters['b' + str(l)].shape == (layer_dims[l], 1))\n",
        "     \n",
        "    return parameters"
      ],
      "metadata": {
        "id": "AaXHrQT33Cwg"
      },
      "execution_count": 27,
      "outputs": []
    },
    {
      "cell_type": "markdown",
      "source": [
        "**Xavier Parameter Initialization**"
      ],
      "metadata": {
        "id": "MrhLg6MnzTAn"
      }
    },
    {
      "cell_type": "code",
      "source": [
        "def initialize_parameters_deep_Xavier(layer_dims):\n",
        "    parameters = {}\n",
        "    L = len(layer_dims) # number of layers in the network\n",
        "\n",
        "    for l in range(1, L):\n",
        "        parameters['W' + str(l)] = np.random.randn(layer_dims[l], layer_dims[l-1]) * np.sqrt(1/layer_dims[l-1])\n",
        "        parameters['b' + str(l)] = np.zeros((layer_dims[l], 1))\n",
        "        \n",
        "        assert(parameters['W' + str(l)].shape == (layer_dims[l], layer_dims[l - 1]))\n",
        "        assert(parameters['b' + str(l)].shape == (layer_dims[l], 1))\n",
        "     \n",
        "    return parameters"
      ],
      "metadata": {
        "id": "TvILPAtq3iCD"
      },
      "execution_count": 28,
      "outputs": []
    },
    {
      "cell_type": "markdown",
      "source": [
        "#**Neural Network architecture**"
      ],
      "metadata": {
        "id": "LJAwFOJ4za8O"
      }
    },
    {
      "cell_type": "markdown",
      "source": [
        "**Linear Feed Forward Network**"
      ],
      "metadata": {
        "id": "uTsff38wzhY-"
      }
    },
    {
      "cell_type": "code",
      "execution_count": 29,
      "metadata": {
        "id": "0uyvIqOl7DeV"
      },
      "outputs": [],
      "source": [
        "def linear_forward(A, W, b):\n",
        "\n",
        "    Z = np.dot(W,A) + b  \n",
        "    \n",
        "    cache = (A, W, b)\n",
        "    \n",
        "    return Z, cache"
      ]
    },
    {
      "cell_type": "markdown",
      "source": [
        "**Activating Linear Feed Forward Network**"
      ],
      "metadata": {
        "id": "W9eoRWdrzrpf"
      }
    },
    {
      "cell_type": "code",
      "execution_count": 30,
      "metadata": {
        "id": "Kr8aJ0pc7DeW"
      },
      "outputs": [],
      "source": [
        "def linear_activation_forward(A_prev, W, b, activation):\n",
        "    \n",
        "    if activation == \"sigmoid\":\n",
        "        Z, linear_cache = linear_forward(A_prev, W, b)\n",
        "        A, activation_cache = sigmoid(Z)\n",
        "    \n",
        "    elif activation == \"relu\":\n",
        "        Z, linear_cache = linear_forward(A_prev, W, b)\n",
        "        A, activation_cache = relu(Z)\n",
        "        \n",
        "    cache = (linear_cache, activation_cache)\n",
        "\n",
        "    return A, cache"
      ]
    },
    {
      "cell_type": "markdown",
      "source": [
        "**Feed Forward for all the layers**"
      ],
      "metadata": {
        "id": "dBtr1P03z0Q1"
      }
    },
    {
      "cell_type": "code",
      "execution_count": 31,
      "metadata": {
        "id": "IJ9a0ZTr7DeW"
      },
      "outputs": [],
      "source": [
        "def L_model_forward(X, parameters):\n",
        "\n",
        "    caches = []\n",
        "    A = X\n",
        "    L = len(parameters) // 2                  # number of layers in the neural network\n",
        "\n",
        "    for l in range(1, L):\n",
        "        A_prev = A \n",
        "\n",
        "        A, cache = linear_activation_forward(A_prev, parameters[\"W\"+str(l)], parameters[\"b\"+str(l)], \"relu\")\n",
        "        caches.append(cache)\n",
        "\n",
        "    AL, cache = linear_activation_forward(A, parameters[\"W\"+str(l+1)], parameters[\"b\"+str(l+1)], \"sigmoid\")\n",
        "    caches.append(cache)\n",
        "          \n",
        "    return AL, caches"
      ]
    },
    {
      "cell_type": "markdown",
      "source": [
        "**Cost Function Calculation**"
      ],
      "metadata": {
        "id": "srnOFNMkz9Ue"
      }
    },
    {
      "cell_type": "code",
      "execution_count": 32,
      "metadata": {
        "id": "zjS3RbqS7DeW"
      },
      "outputs": [],
      "source": [
        "def compute_cost(AL, Y):\n",
        "    \n",
        "    m = Y.shape[1]\n",
        "\n",
        "    cost = np.sum(np.dot(np.log(AL + 10**-6),Y.T)+np.dot(np.log(1-AL + 10**-6),(1-Y).T))/-m\n",
        "    \n",
        "    cost = np.squeeze(cost)\n",
        "\n",
        "    \n",
        "    return cost"
      ]
    },
    {
      "cell_type": "markdown",
      "source": [
        "**Linear Feed Backward**"
      ],
      "metadata": {
        "id": "c2b7SFWW0F3a"
      }
    },
    {
      "cell_type": "code",
      "execution_count": 33,
      "metadata": {
        "id": "o3W7dDcZ7DeW"
      },
      "outputs": [],
      "source": [
        "def linear_backward(dZ, cache):\n",
        "    A_prev, W, b = cache\n",
        "    m = A_prev.shape[1]\n",
        "\n",
        "    dW = np.dot(dZ, A_prev.T)/m\n",
        "    db = np.sum(dZ,axis=1, keepdims=True)/m\n",
        "    dA_prev = np.dot(W.T,dZ)\n",
        "    \n",
        "    return dA_prev, dW, db"
      ]
    },
    {
      "cell_type": "markdown",
      "source": [
        "**Gradient Calculation**"
      ],
      "metadata": {
        "id": "lxXktgAf0KRA"
      }
    },
    {
      "cell_type": "code",
      "execution_count": 34,
      "metadata": {
        "id": "xVKjpZM_7DeW"
      },
      "outputs": [],
      "source": [
        "def linear_activation_backward(dA, cache, activation):\n",
        "    linear_cache, activation_cache = cache\n",
        "    \n",
        "    if activation == \"relu\":\n",
        "        dZ = relu_backward(dA, activation_cache)\n",
        "        dA_prev, dW, db = linear_backward(dZ, linear_cache)\n",
        "        \n",
        "    elif activation == \"sigmoid\":\n",
        "        dZ = sigmoid_backward(dA, activation_cache)\n",
        "        dA_prev, dW, db = linear_backward(dZ, linear_cache)        \n",
        "    \n",
        "    return dA_prev, dW, db"
      ]
    },
    {
      "cell_type": "markdown",
      "source": [
        "**Gradient calculation for the entire network**"
      ],
      "metadata": {
        "id": "gq7dp2Ox0SIf"
      }
    },
    {
      "cell_type": "code",
      "execution_count": 35,
      "metadata": {
        "id": "AY99vlgn7DeX"
      },
      "outputs": [],
      "source": [
        "def L_model_backward(AL, Y, caches):\n",
        "    grads = {}\n",
        "    L = len(caches) # the number of layers\n",
        "    m = AL.shape[1]\n",
        "    Y = Y.reshape(AL.shape) # after this line, Y is the same shape as AL\n",
        "    \n",
        "    dAL = - (np.divide(Y, AL) - np.divide(1 - Y, 1 - AL))\n",
        "    \n",
        "    current_cache = caches[L-1]\n",
        "    dA_prev_temp, dW_temp, db_temp = linear_activation_backward(dAL, current_cache, \"sigmoid\")\n",
        "    grads[\"dA\" + str(L-1)] = dA_prev_temp\n",
        "    grads[\"dW\" + str(L)] = dW_temp\n",
        "    grads[\"db\" + str(L)] = db_temp \n",
        "    \n",
        "    # Loop from l=L-2 to l=0\n",
        "    for l in reversed(range(L-1)):\n",
        "        current_cache = caches[l]\n",
        "        dA_prev_temp, dW_temp, db_temp = linear_activation_backward(dA_prev_temp, current_cache, \"relu\")\n",
        "        grads[\"dA\" + str(l)] = dA_prev_temp\n",
        "        grads[\"dW\" + str(l + 1)] = dW_temp\n",
        "        grads[\"db\" + str(l + 1)] = db_temp      \n",
        "\n",
        "    return grads"
      ]
    },
    {
      "cell_type": "code",
      "source": [
        "import pdb"
      ],
      "metadata": {
        "id": "2d4qwABxFkOt"
      },
      "execution_count": 36,
      "outputs": []
    },
    {
      "cell_type": "code",
      "source": [
        "def initialize_adam(parameters) :\n",
        "    \"\"\"\n",
        "    Initializes v and s as two python dictionaries with:\n",
        "                - keys: \"dW1\", \"db1\", ..., \"dWL\", \"dbL\" \n",
        "                - values: numpy arrays of zeros of the same shape as the corresponding gradients/parameters.\n",
        "    \n",
        "    Arguments:\n",
        "    parameters -- python dictionary containing your parameters.\n",
        "                    parameters[\"W\" + str(l)] = Wl\n",
        "                    parameters[\"b\" + str(l)] = bl\n",
        "    \n",
        "    Returns: \n",
        "    v -- python dictionary that will contain the exponentially weighted average of the gradient. Initialized with zeros.\n",
        "                    v[\"dW\" + str(l)] = ...\n",
        "                    v[\"db\" + str(l)] = ...\n",
        "    s -- python dictionary that will contain the exponentially weighted average of the squared gradient. Initialized with zeros.\n",
        "                    s[\"dW\" + str(l)] = ...\n",
        "                    s[\"db\" + str(l)] = ...\n",
        "\n",
        "    \"\"\"\n",
        "    \n",
        "    L = len(parameters) // 2 # number of layers in the neural networks\n",
        "    v = {}\n",
        "    s = {}\n",
        "    \n",
        "    # Initialize v, s. Input: \"parameters\". Outputs: \"v, s\".\n",
        "    for l in range(1, L + 1):\n",
        "    # (approx. 4 lines)\n",
        "        # v[\"dW\" + str(l)] = ...\n",
        "        # v[\"db\" + str(l)] = ...\n",
        "        # s[\"dW\" + str(l)] = ...\n",
        "        # s[\"db\" + str(l)] = ...\n",
        "    # YOUR CODE STARTS HERE\n",
        "        v[\"dW\" + str(l)] = np.zeros(parameters[\"W\"+str(l)].shape)\n",
        "        v[\"db\" + str(l)] = np.zeros(parameters[\"b\"+str(l)].shape)\n",
        "        s[\"dW\" + str(l)] = np.zeros(parameters[\"W\"+str(l)].shape)\n",
        "        s[\"db\" + str(l)] = np.zeros(parameters[\"b\"+str(l)].shape)   \n",
        "    \n",
        "    # YOUR CODE ENDS HERE\n",
        "    \n",
        "    return v, s"
      ],
      "metadata": {
        "id": "XHnBF8nl71si"
      },
      "execution_count": 37,
      "outputs": []
    },
    {
      "cell_type": "code",
      "source": [
        "def update_parameters_with_adam(parameters, grads, v, s, t, learning_rate = 0.01,\n",
        "                                beta1 = 0.9, beta2 = 0.999,  epsilon = 1e-8):\n",
        "    \"\"\"\n",
        "    Update parameters using Adam\n",
        "    \n",
        "    Arguments:\n",
        "    parameters -- python dictionary containing your parameters:\n",
        "                    parameters['W' + str(l)] = Wl\n",
        "                    parameters['b' + str(l)] = bl\n",
        "    grads -- python dictionary containing your gradients for each parameters:\n",
        "                    grads['dW' + str(l)] = dWl\n",
        "                    grads['db' + str(l)] = dbl\n",
        "    v -- Adam variable, moving average of the first gradient, python dictionary\n",
        "    s -- Adam variable, moving average of the squared gradient, python dictionary\n",
        "    t -- Adam variable, counts the number of taken steps\n",
        "    learning_rate -- the learning rate, scalar.\n",
        "    beta1 -- Exponential decay hyperparameter for the first moment estimates \n",
        "    beta2 -- Exponential decay hyperparameter for the second moment estimates \n",
        "    epsilon -- hyperparameter preventing division by zero in Adam updates\n",
        "\n",
        "    Returns:\n",
        "    parameters -- python dictionary containing your updated parameters \n",
        "    v -- Adam variable, moving average of the first gradient, python dictionary\n",
        "    s -- Adam variable, moving average of the squared gradient, python dictionary\n",
        "    \"\"\"\n",
        "    \n",
        "    L = len(parameters) // 2                 # number of layers in the neural networks\n",
        "    v_corrected = {}                         # Initializing first moment estimate, python dictionary\n",
        "    s_corrected = {}                         # Initializing second moment estimate, python dictionary\n",
        "    \n",
        "    # Perform Adam update on all parameters\n",
        "    for l in range(1, L + 1):\n",
        "        # Moving average of the gradients. Inputs: \"v, grads, beta1\". Output: \"v\".\n",
        "        # (approx. 2 lines)\n",
        "        # v[\"dW\" + str(l)] = ...\n",
        "        # v[\"db\" + str(l)] = ...\n",
        "        # YOUR CODE STARTS HERE\n",
        "        v[\"dW\" + str(l)] = beta1 * v[\"dW\"+str(l)] + (1-beta1) * grads[\"dW\"+str(l)]\n",
        "        v[\"db\" + str(l)] = beta1 * v[\"db\"+str(l)] + (1-beta1) * grads[\"db\"+str(l)]      \n",
        "        \n",
        "        # YOUR CODE ENDS HERE\n",
        "\n",
        "        # Compute bias-corrected first moment estimate. Inputs: \"v, beta1, t\". Output: \"v_corrected\".\n",
        "        # (approx. 2 lines)\n",
        "        # v_corrected[\"dW\" + str(l)] = ...\n",
        "        # v_corrected[\"db\" + str(l)] = ...\n",
        "        # YOUR CODE STARTS HERE\n",
        "        v_corrected[\"dW\" + str(l)] = v[\"dW\"+str(l)] / (1 - (beta1)**t)\n",
        "        v_corrected[\"db\" + str(l)] = v[\"db\"+str(l)] / (1 - (beta1)**t)     \n",
        "        \n",
        "        # YOUR CODE ENDS HERE\n",
        "\n",
        "        # Moving average of the squared gradients. Inputs: \"s, grads, beta2\". Output: \"s\".\n",
        "        #(approx. 2 lines)\n",
        "        # s[\"dW\" + str(l)] = ...\n",
        "        # s[\"db\" + str(l)] = ...\n",
        "        # YOUR CODE STARTS HERE\n",
        "        s[\"dW\" + str(l)] = beta2*s[\"dW\" + str(l)] + (1-beta2) * grads[\"dW\"+str(l)] ** 2\n",
        "        s[\"db\" + str(l)] = beta2*s[\"db\" + str(l)] + (1-beta2) * grads[\"db\"+str(l)] ** 2        \n",
        "        \n",
        "        # YOUR CODE ENDS HERE\n",
        "\n",
        "        # Compute bias-corrected second raw moment estimate. Inputs: \"s, beta2, t\". Output: \"s_corrected\".\n",
        "        # (approx. 2 lines)\n",
        "        # s_corrected[\"dW\" + str(l)] = ...\n",
        "        # s_corrected[\"db\" + str(l)] = ...\n",
        "        # YOUR CODE STARTS HERE\n",
        "        s_corrected[\"dW\" + str(l)] = s[\"dW\"+str(l)] / (1 - (beta2)**t)\n",
        "        s_corrected[\"db\" + str(l)] = s[\"db\"+str(l)] / (1 - (beta2)**t)       \n",
        "        \n",
        "        # YOUR CODE ENDS HERE\n",
        "\n",
        "        # Update parameters. Inputs: \"parameters, learning_rate, v_corrected, s_corrected, epsilon\". Output: \"parameters\".\n",
        "        # (approx. 2 lines)\n",
        "        # parameters[\"W\" + str(l)] = ...\n",
        "        # parameters[\"b\" + str(l)] = ...\n",
        "        # YOUR CODE STARTS HERE\n",
        "        parameters[\"W\" + str(l)] = parameters[\"W\" + str(l)] - learning_rate * v_corrected[\"dW\" + str(l)] / \\\n",
        "                                                                (np.sqrt(s_corrected[\"dW\" + str(l)]) + epsilon)\n",
        "        parameters[\"b\" + str(l)] = parameters[\"b\" + str(l)] - learning_rate * v_corrected[\"db\" + str(l)] / \\\n",
        "                                                                (np.sqrt(s_corrected[\"db\" + str(l)]) + epsilon)        \n",
        "        \n",
        "        # YOUR CODE ENDS HERE\n",
        "\n",
        "    return parameters, v, s, v_corrected, s_corrected"
      ],
      "metadata": {
        "id": "6nqG3lgVEAds"
      },
      "execution_count": 38,
      "outputs": []
    },
    {
      "cell_type": "markdown",
      "source": [
        "**Updating Parameters**"
      ],
      "metadata": {
        "id": "sitGNx4l0WuS"
      }
    },
    {
      "cell_type": "code",
      "execution_count": 39,
      "metadata": {
        "id": "8Q71ZE6R7DeX"
      },
      "outputs": [],
      "source": [
        "def update_parameters(params, grads, learning_rate):\n",
        "    parameters = params.copy()\n",
        "    L = len(parameters) // 2 # number of layers in the neural network\n",
        "\n",
        "    for l in range(L):\n",
        "        parameters[\"W\" + str(l+1)] = params[\"W\" + str(l+1)] - learning_rate * grads[\"dW\" + str(l+1)]\n",
        "        parameters[\"b\" + str(l+1)] = params[\"b\" + str(l+1)] - learning_rate * grads[\"db\" + str(l+1)]     \n",
        "        \n",
        "    return parameters"
      ]
    },
    {
      "cell_type": "markdown",
      "source": [
        "**Defining the model**"
      ],
      "metadata": {
        "id": "kJA_MTCX0aEL"
      }
    },
    {
      "cell_type": "code",
      "execution_count": 40,
      "metadata": {
        "id": "sdqMsXyu7DeZ"
      },
      "outputs": [],
      "source": [
        "def L_layer_model(X, Y, layers_dims, learning_rate = 0.000004, num_iterations = 200, optimizer = None, beta1 = 0.9, beta2 = 0.999,  epsilon = 1e-8, print_cost=False):\n",
        "    np.random.seed(1)\n",
        "    costs = []                         # keep track of cost\n",
        "    \n",
        "    # Parameters initialization.\n",
        "    parameters = initialize_parameters_deep_He(layers_dims)\n",
        "\n",
        "    # Initialize the optimizer\n",
        "    if optimizer == None:\n",
        "        update_function = update_parameters\n",
        "    # elif optimizer == \"momentum\":\n",
        "    #     v = initialize_velocity(parameters)\n",
        "    elif optimizer == \"adam\":\n",
        "        v, s = initialize_adam(parameters)\n",
        "        update_function = update_parameters_with_adam\n",
        "        \n",
        "    # Loop (gradient descent)\n",
        "    for i in range(0, num_iterations):\n",
        "\n",
        "        # Forward propagation: [LINEAR -> RELU]*(L-1) -> LINEAR -> SIGMOID.\n",
        "        AL, caches = L_model_forward(X, parameters)\n",
        "        \n",
        "        # Compute cost.\n",
        "\n",
        "        cost = compute_cost(AL, Y)\n",
        "    \n",
        "        # Backward propagation.\n",
        "        grads = L_model_backward(AL, Y, caches)\n",
        " \n",
        "        # Update parameters.\n",
        "        if optimizer == None:\n",
        "                parameters = update_parameters(parameters, grads, learning_rate)\n",
        "\n",
        "        elif optimizer == \"adam\":\n",
        "                t = i + 1 # Adam counter\n",
        "                parameters, v, s, _, _ = update_parameters_with_adam(parameters, grads, v, s,\n",
        "                                                               t, learning_rate, beta1, beta2,  epsilon)\n",
        "\n",
        "                \n",
        "        # Print the cost every 1/10th of iterations\n",
        "        disp_cost = num_iterations/10\n",
        "        if print_cost and i % disp_cost == 0 or i == num_iterations - 1:\n",
        "            print(\"Cost after iteration {}: {}\".format(i, np.squeeze(cost)))\n",
        "        if i % disp_cost == 0 or i == num_iterations:\n",
        "            costs.append(cost)\n",
        "    \n",
        "    return parameters, costs, caches"
      ]
    },
    {
      "cell_type": "markdown",
      "source": [
        "**Model Evaluation**"
      ],
      "metadata": {
        "id": "MjunKqjQ0hqW"
      }
    },
    {
      "cell_type": "code",
      "execution_count": 41,
      "metadata": {
        "id": "2udvy9oK7DeY"
      },
      "outputs": [],
      "source": [
        "def predict(X, y, parameters):\n",
        "    \n",
        "    m = X.shape[1]\n",
        "    n = len(parameters) // 2 # number of layers in the neural network\n",
        "    p = np.zeros((1,m))\n",
        "    \n",
        "    # Forward propagation\n",
        "    probas, caches = L_model_forward(X, parameters)\n",
        "\n",
        "    # convert probas to -1/1 predictions\n",
        "    for i in range(0, probas.shape[1]):\n",
        "        if probas[0,i] > 0.5:\n",
        "            p[0,i] = 1\n",
        "        else:\n",
        "            p[0,i] = -1\n",
        "    \n",
        "    print(\"Accuracy: \"  + str(np.sum((p == y)/m)))\n",
        "        \n",
        "    return p\n"
      ]
    },
    {
      "cell_type": "code",
      "source": [
        "def plot_costs(costs, learning_rate=0.0075):\n",
        "    plt.plot(np.squeeze(costs))\n",
        "    plt.ylabel('cost')\n",
        "    plt.xlabel('iterations (per hundreds)')\n",
        "    plt.title(\"Learning rate =\" + str(learning_rate))\n",
        "    plt.show()"
      ],
      "metadata": {
        "id": "4W8h61AXu3ZN"
      },
      "execution_count": 42,
      "outputs": []
    },
    {
      "cell_type": "code",
      "execution_count": 43,
      "metadata": {
        "id": "IInPHbS-7DeZ"
      },
      "outputs": [],
      "source": [
        "data = np.loadtxt(\"data_banknote_authentication.csv\", delimiter=',')\n",
        "# data = np.loadtxt(\"adult.data\", unpack=True)\n",
        "dependantVarColumn = 4 # 0 indexed column number of the dependant variable\n",
        "sizeTrainingData = 0.8 # range 0 to 1 as it is in percentage"
      ]
    },
    {
      "cell_type": "markdown",
      "source": [
        "**Defining Hyperparameters**"
      ],
      "metadata": {
        "id": "Vjs_m_GWv8h2"
      }
    },
    {
      "cell_type": "code",
      "source": [
        "learning_rate = 0.0004\n",
        "\n",
        "layers_dims_optimal = [4, 4, 1] #  3-layer model\n",
        "layers_dims = [100]*8\n",
        "layers_dims.insert(0,4)\n",
        "layers_dims.append(1)\n",
        "\n",
        "num_iterations = 200"
      ],
      "metadata": {
        "id": "wOEawuHev6Ht"
      },
      "execution_count": 44,
      "outputs": []
    },
    {
      "cell_type": "code",
      "source": [
        "data = transformTarVar(data, dependantVarColumn)\n",
        "\n",
        "X_train, X_test, Y_train, Y_test = trainTestTransform(data, sizeTrainingData)\n",
        "\n",
        "parameters, costs, caches = L_layer_model(X_train, Y_train, layers_dims, learning_rate, num_iterations = 200, optimizer = \"adam\", print_cost = True)\n",
        "\n",
        "plot_costs(costs, learning_rate)\n",
        "\n",
        "#Best parameters for the data ----- LR-0.05, Epochs-200 with target variable in the form of 0/1\n",
        "#Whats weird that gradients start to explode and accuracy decreases to 69% if we set the target variable to -1/1 keeping all other hyper parameters fixed\n",
        "\n",
        "\n",
        "parameters_optimal, costs_optimal, caches_optimal = L_layer_model(X_train, Y_train, layers_dims_optimal,0.005, num_iterations = 200, print_cost = True)\n",
        "plot_costs(costs_optimal, 0.05)"
      ],
      "metadata": {
        "colab": {
          "base_uri": "https://localhost:8080/",
          "height": 1000
        },
        "id": "hKIR8DfOtsJL",
        "outputId": "5713ee23-993a-4e3d-f08e-3dd4ebcf8ec9"
      },
      "execution_count": 46,
      "outputs": [
        {
          "output_type": "stream",
          "name": "stdout",
          "text": [
            "[[ -1. 762.]\n",
            " [  1. 610.]]\n",
            "Cost after iteration 0: 3.8674405165504053\n",
            "Cost after iteration 20: -5.768905736970275\n"
          ]
        },
        {
          "output_type": "stream",
          "name": "stderr",
          "text": [
            "/content/dnn_utils.py:15: RuntimeWarning: overflow encountered in exp\n",
            "  A = 1/(1+np.exp(-Z))\n",
            "/usr/local/lib/python3.7/dist-packages/ipykernel_launcher.py:7: RuntimeWarning: divide by zero encountered in true_divide\n",
            "  import sys\n",
            "/content/dnn_utils.py:76: RuntimeWarning: overflow encountered in exp\n",
            "  s = 1/(1+np.exp(-Z))\n",
            "/content/dnn_utils.py:77: RuntimeWarning: invalid value encountered in multiply\n",
            "  dZ = dA * s * (1-s)\n"
          ]
        },
        {
          "output_type": "stream",
          "name": "stdout",
          "text": [
            "Cost after iteration 40: nan\n",
            "Cost after iteration 60: nan\n",
            "Cost after iteration 80: nan\n",
            "Cost after iteration 100: nan\n",
            "Cost after iteration 120: nan\n",
            "Cost after iteration 140: nan\n",
            "Cost after iteration 160: nan\n",
            "Cost after iteration 180: nan\n",
            "Cost after iteration 199: nan\n"
          ]
        },
        {
          "output_type": "display_data",
          "data": {
            "image/png": "[encoded data removed]",
            "text/plain": [
              "<Figure size 360x288 with 1 Axes>"
            ]
          },
          "metadata": {
            "needs_background": "light"
          }
        },
        {
          "output_type": "stream",
          "name": "stdout",
          "text": [
            "Cost after iteration 0: 0.310797931873401\n",
            "Cost after iteration 20: -0.29739495904480634\n",
            "Cost after iteration 40: -0.9755524919901398\n",
            "Cost after iteration 60: -1.9302033163584924\n",
            "Cost after iteration 80: -3.514662484634963\n",
            "Cost after iteration 100: -5.831062194446321\n",
            "Cost after iteration 120: -7.077624173057196\n",
            "Cost after iteration 140: -7.068721797732049\n",
            "Cost after iteration 160: -7.036632323457947\n",
            "Cost after iteration 180: -6.9784885612050775\n",
            "Cost after iteration 199: -6.868080348683816\n"
          ]
        },
        {
          "output_type": "display_data",
          "data": {
            "image/png": "[encoded data removed]",
            "text/plain": [
              "<Figure size 360x288 with 1 Axes>"
            ]
          },
          "metadata": {
            "needs_background": "light"
          }
        }
      ]
    },
    {
      "cell_type": "markdown",
      "source": [
        "**Training Accuracy**"
      ],
      "metadata": {
        "id": "UeQ0gPaY05kF"
      }
    },
    {
      "cell_type": "code",
      "execution_count": 47,
      "metadata": {
        "colab": {
          "base_uri": "https://localhost:8080/"
        },
        "id": "GYARbz5b7DeZ",
        "outputId": "5b2affcb-1f90-4206-99fb-83e09212f2ea"
      },
      "outputs": [
        {
          "output_type": "stream",
          "name": "stdout",
          "text": [
            "Accuracy: 0.6946216955332725\n",
            "Optimal NN\n",
            "Accuracy: 0.7219690063810391\n"
          ]
        }
      ],
      "source": [
        "predictions_train = predict(X_train, Y_train, parameters)\n",
        "\n",
        "print(\"Optimal NN\")\n",
        "predictions_train_optimal = predict(X_train, Y_train, parameters_optimal)\n"
      ]
    },
    {
      "cell_type": "markdown",
      "source": [
        "**Dev Accuracy**"
      ],
      "metadata": {
        "id": "m84_mhci08F5"
      }
    },
    {
      "cell_type": "code",
      "execution_count": 48,
      "metadata": {
        "colab": {
          "base_uri": "https://localhost:8080/"
        },
        "id": "BLwOLxeQ7DeZ",
        "outputId": "4724b83f-3758-4e16-e6e0-8a529220496b"
      },
      "outputs": [
        {
          "output_type": "stream",
          "name": "stdout",
          "text": [
            "Accuracy: 0.0\n",
            "Optimal NN\n",
            "Accuracy: 0.13818181818181818\n"
          ]
        }
      ],
      "source": [
        "predictions_test = predict(X_test.T, Y_test, parameters)\n",
        "\n",
        "print(\"Optimal NN\")\n",
        "predictions_test_optimal = predict(X_test.T, Y_test, parameters_optimal)"
      ]
    },
    {
      "cell_type": "markdown",
      "source": [
        "**Code to fragment the network into smaller networks**"
      ],
      "metadata": {
        "id": "Y_yH0sWDNN7E"
      }
    },
    {
      "cell_type": "code",
      "source": [
        "pip install pulp"
      ],
      "metadata": {
        "id": "beAhTpSZNVH2"
      },
      "execution_count": null,
      "outputs": []
    },
    {
      "cell_type": "code",
      "source": [
        "from pulp import *\n",
        "import random"
      ],
      "metadata": {
        "id": "BWSEznsVNkHD"
      },
      "execution_count": null,
      "outputs": []
    },
    {
      "cell_type": "markdown",
      "source": [
        "**Declaring parameters for the linear programming problem**"
      ],
      "metadata": {
        "id": "kqLoGeyGYtxR"
      }
    },
    {
      "cell_type": "code",
      "source": [
        "#no. of subnetworks\n",
        "subnets = 4\n",
        "\n",
        "#weight of final output layer\n",
        "weights_output_layer = caches[8][0][1].T\n",
        "\n",
        "weights_len = len(weights_output_layer)\n",
        "\n",
        "penultimate_output = caches[8][0][0]\n",
        "\n",
        "output = Y_train.T"
      ],
      "metadata": {
        "id": "35DURK2iNnMt"
      },
      "execution_count": null,
      "outputs": []
    },
    {
      "cell_type": "markdown",
      "source": [
        "**Defining Linear Programming Problem**"
      ],
      "metadata": {
        "id": "rl2yVzWSZKLP"
      }
    },
    {
      "cell_type": "code",
      "source": [
        "model_sub = LpProblem(\"Network_Decomposition\", LpMinimize)"
      ],
      "metadata": {
        "id": "eaDKOd95OAA8"
      },
      "execution_count": null,
      "outputs": []
    },
    {
      "cell_type": "markdown",
      "source": [
        "**Declaring Decision Variables**"
      ],
      "metadata": {
        "id": "Hjb6CWhwZYpA"
      }
    },
    {
      "cell_type": "code",
      "source": [
        "variable_names_subnetwork = [str(i)+str(j) for j in range(1, subnets+1) for i in range(1, weights_len+1)]\n",
        "variable_names_subnetwork.sort()\n",
        "# print(\"Variable Indices:\", variable_names_subnetwork)"
      ],
      "metadata": {
        "id": "l_HCp7rMOCaj"
      },
      "execution_count": null,
      "outputs": []
    },
    {
      "cell_type": "code",
      "source": [
        "DV_variables_sub = LpVariable.matrix(\"X\", variable_names_subnetwork)\n",
        "allocation_sub = np.array(DV_variables_sub).reshape(weights_len, subnets)\n",
        "# print(\"Decision Variable/Allocation Matrix: \")\n",
        "# print(allocation_sub)"
      ],
      "metadata": {
        "id": "djK4SPl9OEsO"
      },
      "execution_count": null,
      "outputs": []
    },
    {
      "cell_type": "code",
      "source": [
        "model_sub +=  0\n",
        "print(model_sub)"
      ],
      "metadata": {
        "id": "n-mt6O7TOHBS"
      },
      "execution_count": null,
      "outputs": []
    },
    {
      "cell_type": "markdown",
      "source": [
        "**Defining constraint which ensures the subnetwork completely decomposes the whole network**\n",
        "\n",
        "$\\sum \\limits _{k=1} ^{K} {\\alpha}_{m,k} = W_{1,m} ^{L+1}$ &emsp; &emsp; &emsp; &emsp; &emsp; &emsp; &emsp; &emsp; &emsp; &emsp; &emsp; &emsp; &emsp; &emsp; ${1}\\le m \\le M $"
      ],
      "metadata": {
        "id": "1vtbuh-0bq-2"
      }
    },
    {
      "cell_type": "code",
      "source": [
        "for i in range(weights_len):\n",
        "    # print(lpSum(allocation_sub[i][j] for j in range(subnets)) == weights_output_layer[i])\n",
        "    model_sub += lpSum(allocation_sub[i][j] for j in range(subnets)) == weights_output_layer[i] , \"Decomposition Constraint 1\" + str(i)"
      ],
      "metadata": {
        "id": "0INQ_oa4OMtN"
      },
      "execution_count": null,
      "outputs": []
    },
    {
      "cell_type": "markdown",
      "source": [
        "**Defining constraint that zeros out half entries randomly for each column of alpha, encouraging diversity among sub-networks**\n",
        "\n",
        "${\\alpha}_{m_{j,k},k} = 0$ &emsp; &emsp; &emsp; &emsp; &emsp; &emsp; &emsp; &emsp; &emsp; &emsp; &emsp; &emsp; &emsp; &emsp;  ${1}\\le j \\le M/2,  {1}\\le k \\le K$ "
      ],
      "metadata": {
        "id": "BlgkJUdRdHvZ"
      }
    },
    {
      "cell_type": "code",
      "source": [
        "for k in range(len(penultimate_output[0])):\n",
        "  for i in range(weights_len):\n",
        "    for j in range(subnets):\n",
        "      model_sub += lpSum(allocation_sub[i][j]*penultimate_output[:,k][i]*output[k][0]) >= 0, \"Decomposition Constraint 2\" + str(k) + \"_\" + str(i) + str(j)"
      ],
      "metadata": {
        "id": "56G7rr7kPI0G"
      },
      "execution_count": null,
      "outputs": []
    },
    {
      "cell_type": "markdown",
      "source": [
        "**Each sub-network achieves 100% accuracy on training data**\n",
        "\n",
        "$(\\sum \\limits _{m=1} ^{M} {\\alpha}_{m,k}g({z} _{m} ^{L}(x _{i})) \\ )y_{i}= W_{1,m} ^{L+1}$ &emsp; &emsp; &emsp; &emsp; &emsp; &emsp; &emsp; &emsp; &emsp; &emsp; ${1}\\le i \\le n,  {1}\\le k \\le K$ "
      ],
      "metadata": {
        "id": "yRFolirxhVUs"
      }
    },
    {
      "cell_type": "code",
      "source": [
        "lastLayerIpCountList = [i for i in range(weights_len)]\n",
        "\n",
        "for j in range(subnets):\n",
        "    randomPickedIp = random.sample(lastLayerIpCountList, 50)\n",
        "    for i in randomPickedIp:\n",
        "        # print(allocation_sub[i][j] == 0)\n",
        "        model_sub += allocation_sub[i][j] == 0, \"Decomposition Constraint 3\" + str(i) + \"_\" + str(j)"
      ],
      "metadata": {
        "id": "eVpnelVTRF6N"
      },
      "execution_count": null,
      "outputs": []
    },
    {
      "cell_type": "code",
      "source": [
        "model_sub.writeLP(\"Network_Frag.lp\")\n",
        "\n",
        "#model.solve()\n",
        "model_sub.solve(PULP_CBC_CMD())\n",
        "\n",
        "status =  LpStatus[model_sub.status]\n",
        "\n",
        "print(\"Linear Programming Problem status:\",status)\n",
        "\n",
        "print(\"Total Cost:\", model_sub.objective.value())"
      ],
      "metadata": {
        "id": "8QyKNXkBakhF"
      },
      "execution_count": null,
      "outputs": []
    },
    {
      "cell_type": "code",
      "source": [
        "def printModelVariables(model_sub):\n",
        "  print(model_sub.variables())\n",
        "  for v in model_sub.variables():\n",
        "      try:\n",
        "          print(v.name,\"=\", v.value())\n",
        "      except:\n",
        "          print(\"error couldnt find value\")"
      ],
      "metadata": {
        "id": "0eNLM-Pd6raO"
      },
      "execution_count": null,
      "outputs": []
    },
    {
      "cell_type": "markdown",
      "source": [
        "**Creating a dictionary to store each sub-network weights**"
      ],
      "metadata": {
        "id": "-Q3xfeBVprAH"
      }
    },
    {
      "cell_type": "code",
      "source": [
        "subnetwork_dict = {}\n",
        "for subnet in range(subnets):\n",
        "  templist =[element.value() for element in allocation_sub[:,subnet] ]\n",
        "  subnetwork_dict[\"subnetwork\"+str(subnet)] = np.array(templist).reshape(1,100)"
      ],
      "metadata": {
        "id": "oobFFMysDBCV"
      },
      "execution_count": null,
      "outputs": []
    },
    {
      "cell_type": "markdown",
      "source": [
        "**Testing each subnetwork on training data**"
      ],
      "metadata": {
        "id": "yjBoYnJgp5cR"
      }
    },
    {
      "cell_type": "code",
      "source": [
        "import copy\n",
        "subnet_parameters = copy.deepcopy(parameters)"
      ],
      "metadata": {
        "id": "ytA0kJ1BPi_R"
      },
      "execution_count": null,
      "outputs": []
    },
    {
      "cell_type": "code",
      "source": [
        "for network in subnetwork_dict:\n",
        "  subnet_parameters[\"W9\"] = subnetwork_dict[network]\n",
        "  print(network, \"Training\")\n",
        "  subnetwork_predictions_train = predict(X_train, Y_train, subnet_parameters)\n",
        "  print(network, \"Test\")\n",
        "  subnetwork_predictions_test = predict(X_test.T, Y_test, parameters)"
      ],
      "metadata": {
        "id": "bj6wF4qKOPbc"
      },
      "execution_count": null,
      "outputs": []
    },
    {
      "cell_type": "code",
      "source": [
        ""
      ],
      "metadata": {
        "id": "0KyJTx9aPbnx"
      },
      "execution_count": null,
      "outputs": []
    }
  ],
  "metadata": {
    "kernelspec": {
      "display_name": "Python 3",
      "language": "python",
      "name": "python3"
    },
    "language_info": {
      "codemirror_mode": {
        "name": "ipython",
        "version": 3
      },
      "file_extension": ".py",
      "mimetype": "text/x-python",
      "name": "python",
      "nbconvert_exporter": "python",
      "pygments_lexer": "ipython3",
      "version": "3.7.2"
    },
    "colab": {
      "name": "GoNNoSD.ipynb",
      "provenance": []
    }
  },
  "nbformat": 4,
  "nbformat_minor": 0
}